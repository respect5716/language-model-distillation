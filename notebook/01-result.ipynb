{
 "cells": [
  {
   "cell_type": "markdown",
   "id": "4e4c759b",
   "metadata": {},
   "source": [
    "## 1. Setup"
   ]
  },
  {
   "cell_type": "code",
   "execution_count": 43,
   "id": "35bbcdb0",
   "metadata": {},
   "outputs": [],
   "source": [
    "import math\n",
    "import copy\n",
    "from tqdm.auto import tqdm\n",
    "\n",
    "import torch\n",
    "import torch.nn as nn\n",
    "import torch.nn.functional as F\n",
    "\n",
    "from transformers import AutoModel, AutoTokenizer, AutoConfig\n",
    "from transformers import BatchEncoding\n",
    "from datasets import load_dataset"
   ]
  },
  {
   "cell_type": "markdown",
   "id": "e292bbcf",
   "metadata": {},
   "source": [
    "## 2. Models"
   ]
  },
  {
   "cell_type": "code",
   "execution_count": null,
   "id": "ff896d06",
   "metadata": {},
   "outputs": [],
   "source": [
    "teacher = AutoModel.from_pretrained('klue/bert-base').cuda()\n",
    "\n",
    "student = AutoModel.from_pretrained('../ckpt/transformers/').cuda()\n",
    "\n",
    "config = AutoConfig.from_pretrained('../ckpt/transformers/')\n",
    "random = AutoModel.from_config(config).cuda()"
   ]
  },
  {
   "cell_type": "code",
   "execution_count": null,
   "id": "e4e497aa",
   "metadata": {},
   "outputs": [],
   "source": [
    "for param in teacher.parameters():\n",
    "    param.requires_grad = False"
   ]
  },
  {
   "cell_type": "code",
   "execution_count": null,
   "id": "f4eddbc9",
   "metadata": {},
   "outputs": [],
   "source": [
    "for param in student.parameters():\n",
    "    param.requires_grad = False"
   ]
  },
  {
   "cell_type": "code",
   "execution_count": null,
   "id": "6060b3ea",
   "metadata": {},
   "outputs": [],
   "source": [
    "for param in random.parameters():\n",
    "    param.requires_grad = False"
   ]
  },
  {
   "cell_type": "markdown",
   "id": "82dcdb11",
   "metadata": {},
   "source": [
    "## 3. Embedding"
   ]
  },
  {
   "cell_type": "code",
   "execution_count": null,
   "id": "28fedb7b",
   "metadata": {},
   "outputs": [],
   "source": [
    "del t, s, r\n",
    "del td, sd, rd"
   ]
  },
  {
   "cell_type": "code",
   "execution_count": 6,
   "id": "76790c3f",
   "metadata": {},
   "outputs": [],
   "source": [
    "t = teacher.embeddings.word_embeddings.weight[1:, 1:]\n",
    "t = torch.matmul(t, t.transpose(-1, -2))\n",
    "# t = t.softmax(dim=1)"
   ]
  },
  {
   "cell_type": "code",
   "execution_count": 7,
   "id": "d87bb489",
   "metadata": {},
   "outputs": [],
   "source": [
    "s = student.embeddings.word_embeddings.weight[1:, 1:]\n",
    "s = torch.matmul(s, s.transpose(-1, -2))\n",
    "# s = s.softmax(dim=1)"
   ]
  },
  {
   "cell_type": "code",
   "execution_count": 8,
   "id": "0d871c31",
   "metadata": {},
   "outputs": [],
   "source": [
    "r = random.embeddings.word_embeddings.weight[1:, 1:]\n",
    "r = torch.matmul(r, r.transpose(-1, -2))\n",
    "# r = r.softmax(dim=1)"
   ]
  },
  {
   "cell_type": "code",
   "execution_count": 24,
   "id": "ffcc0636",
   "metadata": {},
   "outputs": [
    {
     "data": {
      "text/plain": [
       "torch.Size([1, 31999])"
      ]
     },
     "execution_count": 24,
     "metadata": {},
     "output_type": "execute_result"
    }
   ],
   "source": [
    "s[i:i+1].size()"
   ]
  },
  {
   "cell_type": "code",
   "execution_count": 21,
   "id": "4ce79000",
   "metadata": {},
   "outputs": [
    {
     "data": {
      "application/vnd.jupyter.widget-view+json": {
       "model_id": "104b67437a564e03a12590284e8279f4",
       "version_major": 2,
       "version_minor": 0
      },
      "text/plain": [
       "  0%|          | 0/31999 [00:00<?, ?it/s]"
      ]
     },
     "metadata": {},
     "output_type": "display_data"
    }
   ],
   "source": [
    "l = 0\n",
    "for i in tqdm(range(len(t))):\n",
    "    _l = F.kl_div(F.log_softmax(s[i:i+1], dim=-1), F.softmax(t[i:i+1], dim=-1))\n",
    "    l += _l"
   ]
  },
  {
   "cell_type": "code",
   "execution_count": 19,
   "id": "db159566",
   "metadata": {},
   "outputs": [
    {
     "data": {
      "text/plain": [
       "tensor(1.1323e-06, device='cuda:0')"
      ]
     },
     "execution_count": 19,
     "metadata": {},
     "output_type": "execute_result"
    }
   ],
   "source": [
    "_l"
   ]
  },
  {
   "cell_type": "code",
   "execution_count": 22,
   "id": "37ceff4a",
   "metadata": {},
   "outputs": [
    {
     "data": {
      "text/plain": [
       "tensor(0.0255, device='cuda:0')"
      ]
     },
     "execution_count": 22,
     "metadata": {},
     "output_type": "execute_result"
    }
   ],
   "source": [
    "l"
   ]
  },
  {
   "cell_type": "code",
   "execution_count": 20,
   "id": "ac0fca18",
   "metadata": {},
   "outputs": [
    {
     "data": {
      "text/plain": [
       "tensor(0.0175, device='cuda:0')"
      ]
     },
     "execution_count": 20,
     "metadata": {},
     "output_type": "execute_result"
    }
   ],
   "source": [
    "l"
   ]
  },
  {
   "cell_type": "markdown",
   "id": "de75f764",
   "metadata": {},
   "source": [
    "## 4. Hidden States"
   ]
  },
  {
   "cell_type": "code",
   "execution_count": null,
   "id": "5c4573b2",
   "metadata": {},
   "outputs": [],
   "source": [
    "tokenizer = AutoTokenizer.from_pretrained('klue/bert-base')"
   ]
  },
  {
   "cell_type": "code",
   "execution_count": 32,
   "id": "57ae3524",
   "metadata": {},
   "outputs": [
    {
     "name": "stderr",
     "output_type": "stream",
     "text": [
      "Using custom data configuration default-82324f4e586d6530\n",
      "Reusing dataset text (/root/.cache/huggingface/datasets/text/default-82324f4e586d6530/0.0.0/e16f44aa1b321ece1f87b07977cc5d70be93d69b20486d6dacd62e12cf25c9a5)\n"
     ]
    },
    {
     "data": {
      "application/vnd.jupyter.widget-view+json": {
       "model_id": "d41da90e22914c1abcdf8b9ed876ade0",
       "version_major": 2,
       "version_minor": 0
      },
      "text/plain": [
       "  0%|          | 0/1 [00:00<?, ?it/s]"
      ]
     },
     "metadata": {},
     "output_type": "display_data"
    }
   ],
   "source": [
    "dataset = load_dataset('text', data_files='../data/kowiki.txt')['train']"
   ]
  },
  {
   "cell_type": "code",
   "execution_count": 46,
   "id": "c2a6a33d",
   "metadata": {},
   "outputs": [],
   "source": [
    "dataset.set_transform(lambda batch: tokenizer(batch['text'], return_tensors='pt', max_length=512, truncation=True, padding='max_length', return_token_type_ids=False))"
   ]
  },
  {
   "cell_type": "code",
   "execution_count": 47,
   "id": "22e3694d",
   "metadata": {},
   "outputs": [],
   "source": [
    "loader = torch.utils.data.DataLoader(dataset, batch_size=4, shuffle=False)"
   ]
  },
  {
   "cell_type": "code",
   "execution_count": 48,
   "id": "60c9845b",
   "metadata": {},
   "outputs": [],
   "source": [
    "d = next(iter(loader))\n",
    "d = BatchEncoding(d)\n",
    "d = d.to('cuda')"
   ]
  },
  {
   "cell_type": "code",
   "execution_count": 56,
   "id": "ec1325d9",
   "metadata": {},
   "outputs": [],
   "source": [
    "to = teacher(**d, output_attentions=True, output_hidden_states=True)\n",
    "so = student(**d, output_attentions=True, output_hidden_states=True)\n",
    "ro = random(**d, output_attentions=True, output_hidden_states=True)"
   ]
  },
  {
   "cell_type": "code",
   "execution_count": 63,
   "id": "7a6d9122",
   "metadata": {},
   "outputs": [
    {
     "data": {
      "text/plain": [
       "torch.Size([4, 512, 768])"
      ]
     },
     "execution_count": 63,
     "metadata": {},
     "output_type": "execute_result"
    }
   ],
   "source": [
    "to.last_hidden_state.size()"
   ]
  },
  {
   "cell_type": "code",
   "execution_count": 62,
   "id": "0afd5811",
   "metadata": {},
   "outputs": [
    {
     "data": {
      "text/plain": [
       "torch.Size([4, 512, 384])"
      ]
     },
     "execution_count": 62,
     "metadata": {},
     "output_type": "execute_result"
    }
   ],
   "source": [
    "so.last_hidden_state.size()"
   ]
  },
  {
   "cell_type": "code",
   "execution_count": null,
   "id": "05e040ec",
   "metadata": {},
   "outputs": [],
   "source": []
  }
 ],
 "metadata": {
  "kernelspec": {
   "display_name": "Python 3 (ipykernel)",
   "language": "python",
   "name": "python3"
  },
  "language_info": {
   "codemirror_mode": {
    "name": "ipython",
    "version": 3
   },
   "file_extension": ".py",
   "mimetype": "text/x-python",
   "name": "python",
   "nbconvert_exporter": "python",
   "pygments_lexer": "ipython3",
   "version": "3.8.0"
  }
 },
 "nbformat": 4,
 "nbformat_minor": 5
}
