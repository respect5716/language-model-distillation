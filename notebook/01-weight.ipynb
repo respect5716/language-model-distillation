{
 "cells": [
  {
   "cell_type": "code",
   "execution_count": 1,
   "id": "40d90993",
   "metadata": {},
   "outputs": [],
   "source": [
    "from transformers import AutoModel"
   ]
  },
  {
   "cell_type": "code",
   "execution_count": 2,
   "id": "059fd47a",
   "metadata": {},
   "outputs": [],
   "source": [
    "m1 = AutoModel.from_pretrained('../transformers/100000/')\n",
    "m2 = AutoModel.from_pretrained('../transformers/040000/')"
   ]
  },
  {
   "cell_type": "code",
   "execution_count": 6,
   "id": "8f74b234",
   "metadata": {},
   "outputs": [
    {
     "data": {
      "text/plain": [
       "tensor([[False, False, False,  ..., False, False, False],\n",
       "        [ True,  True,  True,  ...,  True,  True,  True],\n",
       "        [False, False, False,  ..., False, False, False],\n",
       "        ...,\n",
       "        [False, False, False,  ..., False, False, False],\n",
       "        [False, False, False,  ..., False, False, False],\n",
       "        [False, False, False,  ..., False, False, False]])"
      ]
     },
     "execution_count": 6,
     "metadata": {},
     "output_type": "execute_result"
    }
   ],
   "source": [
    "m1.embeddings.word_embeddings.weight == m2.embeddings.word_embeddings.weight"
   ]
  },
  {
   "cell_type": "code",
   "execution_count": 5,
   "id": "de518ca3",
   "metadata": {},
   "outputs": [
    {
     "data": {
      "text/plain": [
       "Parameter containing:\n",
       "tensor([[ 2.2193e-02, -1.3813e-01,  2.5781e-02,  ...,  2.4904e-02,\n",
       "         -4.4859e-02, -1.2516e-02],\n",
       "        [ 0.0000e+00,  0.0000e+00,  0.0000e+00,  ...,  0.0000e+00,\n",
       "          0.0000e+00,  0.0000e+00],\n",
       "        [ 6.0830e-02, -1.1270e-01, -4.9246e-02,  ...,  1.0989e-01,\n",
       "          7.7799e-02, -5.0563e-02],\n",
       "        ...,\n",
       "        [ 6.8495e-03, -6.8997e-03, -7.7868e-03,  ...,  7.0389e-03,\n",
       "          1.7584e-02, -3.3189e-02],\n",
       "        [-8.3223e-06,  2.2659e-02,  3.0693e-03,  ...,  8.3549e-03,\n",
       "         -2.7421e-02, -1.7057e-02],\n",
       "        [ 2.3032e-02,  2.3010e-02, -2.9345e-02,  ...,  2.5922e-02,\n",
       "          1.1311e-02, -3.7790e-02]], requires_grad=True)"
      ]
     },
     "execution_count": 5,
     "metadata": {},
     "output_type": "execute_result"
    }
   ],
   "source": [
    "m1.encoder.layer[-1]"
   ]
  },
  {
   "cell_type": "code",
   "execution_count": null,
   "id": "dc942558",
   "metadata": {},
   "outputs": [],
   "source": []
  }
 ],
 "metadata": {
  "kernelspec": {
   "display_name": "Python 3 (ipykernel)",
   "language": "python",
   "name": "python3"
  },
  "language_info": {
   "codemirror_mode": {
    "name": "ipython",
    "version": 3
   },
   "file_extension": ".py",
   "mimetype": "text/x-python",
   "name": "python",
   "nbconvert_exporter": "python",
   "pygments_lexer": "ipython3",
   "version": "3.8.0"
  }
 },
 "nbformat": 4,
 "nbformat_minor": 5
}
