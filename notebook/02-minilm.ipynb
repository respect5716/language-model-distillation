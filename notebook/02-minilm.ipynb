{
 "cells": [
  {
   "cell_type": "markdown",
   "id": "d406f20a",
   "metadata": {},
   "source": [
    "# MiniLM"
   ]
  },
  {
   "cell_type": "markdown",
   "id": "7febcdf4",
   "metadata": {},
   "source": [
    "## 1. Setup"
   ]
  },
  {
   "cell_type": "code",
   "execution_count": 70,
   "id": "6435a78d",
   "metadata": {},
   "outputs": [],
   "source": [
    "import math\n",
    "import copy\n",
    "from tqdm.auto import tqdm\n",
    "\n",
    "import numpy as np\n",
    "import seaborn as sns\n",
    "\n",
    "import torch\n",
    "import torch.nn as nn\n",
    "import torch.nn.functional as F\n",
    "\n",
    "from transformers import AutoModel, AutoTokenizer, AutoConfig, AutoModelForMaskedLM\n",
    "from transformers import BatchEncoding\n",
    "from transformers.data.data_collator import DataCollatorForWholeWordMask, DataCollatorForLanguageModeling\n",
    "from datasets import load_dataset"
   ]
  },
  {
   "cell_type": "markdown",
   "id": "78ff5c80",
   "metadata": {},
   "source": [
    "## 2. Model"
   ]
  },
  {
   "cell_type": "code",
   "execution_count": 2,
   "id": "21b5d4fe",
   "metadata": {},
   "outputs": [],
   "source": [
    "def to_distill(model):\n",
    "    # class method\n",
    "    model.base_model.encoder.layer[0].attention.self.__class__._forward = bert_self_attention_forward\n",
    "\n",
    "    # instance method\n",
    "    for layer in model.base_model.encoder.layer:\n",
    "        layer.attention.self.forward = layer.attention.self._forward\n",
    "    \n",
    "    return model\n",
    "\n",
    "def get_qkvs(model):\n",
    "    attns = [l.attention.self for l in model.base_model.encoder.layer]\n",
    "    qkvs = [{'q': a.q, 'k': a.k, 'v': a.v} for a in attns]    \n",
    "    return qkvs\n",
    "\n",
    "\n",
    "def relation_attention(h, num_relation_heads, attention_mask=None):        \n",
    "    batch_size, seq_length, dim = h.size()\n",
    "    relation_head_size = dim // num_relation_heads\n",
    "\n",
    "    h = h.view(batch_size, seq_length, num_relation_heads, relation_head_size)\n",
    "    h = h.permute(0, 2, 1, 3) # (batch_size, num_relation_heads, seq_length, attention_head_size)\n",
    "\n",
    "    attn = torch.matmul(h, h.transpose(-1, -2)) # (batch_size, num_relation_heads, seq_length, seq_length)\n",
    "    if attention_mask is not None:\n",
    "        attention_mask = attention_mask[:, None, None, :]\n",
    "        attention_masks = (1 - attention_mask) * -10000.0\n",
    "        attn = attn + attention_mask\n",
    "\n",
    "    attn = attn.view(-1, seq_length)\n",
    "    return attn\n",
    "\n",
    "def minilm_loss(t, s, num_relation_heads, attention_mask=None):\n",
    "    attn_t = relation_attention(t, num_relation_heads, attention_mask)\n",
    "    attn_s = relation_attention(s, num_relation_heads, attention_mask)\n",
    "    loss = F.kl_div(F.log_softmax(attn_s, dim=-1), F.softmax(attn_t, dim=-1), reduction='batchmean')\n",
    "    return loss\n",
    "\n",
    "\n",
    "def bert_self_attention_forward(\n",
    "    self,\n",
    "    hidden_states,\n",
    "    attention_mask=None,\n",
    "    head_mask=None,\n",
    "    encoder_hidden_states=None,\n",
    "    encoder_attention_mask=None,\n",
    "    past_key_value=None,\n",
    "    output_attentions=False,\n",
    "):\n",
    "    mixed_query_layer = self.query(hidden_states)\n",
    "    mixed_key_layer = self.key(hidden_states)\n",
    "    mixed_value_layer = self.value(hidden_states)\n",
    "    \n",
    "    query_layer = self.transpose_for_scores(mixed_query_layer)\n",
    "    key_layer = self.transpose_for_scores(mixed_key_layer)\n",
    "    value_layer = self.transpose_for_scores(mixed_value_layer)\n",
    "    \n",
    "    self.q = mixed_query_layer # (Batch, Seq, Dim)\n",
    "    self.k = mixed_key_layer # (Batch, Seq, Dim)\n",
    "    self.v = mixed_value_layer # (Batch, Seq, Dim)\n",
    "\n",
    "    if self.is_decoder:\n",
    "        past_key_value = (key_layer, value_layer)\n",
    "\n",
    "    attention_scores = torch.matmul(query_layer, key_layer.transpose(-1, -2))\n",
    "\n",
    "    if self.position_embedding_type == \"relative_key\" or self.position_embedding_type == \"relative_key_query\":\n",
    "        seq_length = hidden_states.size()[1]\n",
    "        position_ids_l = torch.arange(seq_length, dtype=torch.long, device=hidden_states.device).view(-1, 1)\n",
    "        position_ids_r = torch.arange(seq_length, dtype=torch.long, device=hidden_states.device).view(1, -1)\n",
    "        distance = position_ids_l - position_ids_r\n",
    "        positional_embedding = self.distance_embedding(distance + self.max_position_embeddings - 1)\n",
    "        positional_embedding = positional_embedding.to(dtype=query_layer.dtype)  # fp16 compatibility\n",
    "\n",
    "        if self.position_embedding_type == \"relative_key\":\n",
    "            relative_position_scores = torch.einsum(\"bhld,lrd->bhlr\", query_layer, positional_embedding)\n",
    "            attention_scores = attention_scores + relative_position_scores\n",
    "        elif self.position_embedding_type == \"relative_key_query\":\n",
    "            relative_position_scores_query = torch.einsum(\"bhld,lrd->bhlr\", query_layer, positional_embedding)\n",
    "            relative_position_scores_key = torch.einsum(\"bhrd,lrd->bhlr\", key_layer, positional_embedding)\n",
    "            attention_scores = attention_scores + relative_position_scores_query + relative_position_scores_key\n",
    "\n",
    "    attention_scores = attention_scores / math.sqrt(self.attention_head_size)\n",
    "    if attention_mask is not None:\n",
    "        attention_scores = attention_scores + attention_mask\n",
    "\n",
    "    attention_probs = nn.Softmax(dim=-1)(attention_scores)\n",
    "    attention_probs = self.dropout(attention_probs)\n",
    "\n",
    "    if head_mask is not None:\n",
    "        attention_probs = attention_probs * head_mask\n",
    "\n",
    "    context_layer = torch.matmul(attention_probs, value_layer)\n",
    "\n",
    "    context_layer = context_layer.permute(0, 2, 1, 3).contiguous()\n",
    "    new_context_layer_shape = context_layer.size()[:-2] + (self.all_head_size,)\n",
    "    context_layer = context_layer.view(*new_context_layer_shape)\n",
    "\n",
    "    outputs = (context_layer, attention_probs) if output_attentions else (context_layer,)\n",
    "    if self.is_decoder:\n",
    "        outputs = outputs + (past_key_value,)\n",
    "    return outputs"
   ]
  },
  {
   "cell_type": "code",
   "execution_count": 18,
   "id": "d9a9ff6c",
   "metadata": {},
   "outputs": [
    {
     "name": "stderr",
     "output_type": "stream",
     "text": [
      "Some weights of the model checkpoint at klue/bert-base were not used when initializing BertForMaskedLM: ['cls.seq_relationship.weight', 'cls.seq_relationship.bias']\n",
      "- This IS expected if you are initializing BertForMaskedLM from the checkpoint of a model trained on another task or with another architecture (e.g. initializing a BertForSequenceClassification model from a BertForPreTraining model).\n",
      "- This IS NOT expected if you are initializing BertForMaskedLM from the checkpoint of a model that you expect to be exactly identical (initializing a BertForSequenceClassification model from a BertForSequenceClassification model).\n"
     ]
    }
   ],
   "source": [
    "tokenizer = AutoTokenizer.from_pretrained('klue/bert-base')\n",
    "model = AutoModelForMaskedLM.from_pretrained('klue/bert-base')"
   ]
  },
  {
   "cell_type": "code",
   "execution_count": 19,
   "id": "66d44118",
   "metadata": {},
   "outputs": [],
   "source": [
    "for param in model.parameters():\n",
    "    param.requires_grad = False"
   ]
  },
  {
   "cell_type": "code",
   "execution_count": 20,
   "id": "e47e2ee8",
   "metadata": {},
   "outputs": [],
   "source": [
    "model = to_distill(model)"
   ]
  },
  {
   "cell_type": "code",
   "execution_count": 62,
   "id": "1cbbcc0b",
   "metadata": {},
   "outputs": [
    {
     "name": "stderr",
     "output_type": "stream",
     "text": [
      "Using custom data configuration default-077c9c975f10ac3b\n",
      "Reusing dataset text (/root/.cache/huggingface/datasets/text/default-077c9c975f10ac3b/0.0.0/e16f44aa1b321ece1f87b07977cc5d70be93d69b20486d6dacd62e12cf25c9a5)\n"
     ]
    },
    {
     "data": {
      "application/vnd.jupyter.widget-view+json": {
       "model_id": "eaf471c580ba4f01819688deeb9ce690",
       "version_major": 2,
       "version_minor": 0
      },
      "text/plain": [
       "  0%|          | 0/1 [00:00<?, ?it/s]"
      ]
     },
     "metadata": {},
     "output_type": "display_data"
    }
   ],
   "source": [
    "dataset = load_dataset('text', data_files='../data/modu-spoken.txt')['train']"
   ]
  },
  {
   "cell_type": "code",
   "execution_count": 63,
   "id": "99404f98",
   "metadata": {},
   "outputs": [],
   "source": [
    "dataset.set_transform(lambda batch: tokenizer(batch['text'], return_tensors='pt', max_length=512, truncation=True, padding='max_length', return_token_type_ids=False))"
   ]
  },
  {
   "cell_type": "code",
   "execution_count": 72,
   "id": "63e6b0c2",
   "metadata": {},
   "outputs": [],
   "source": [
    "# collator = DataCollatorForWholeWordMask(tokenizer)\n",
    "collator = DataCollatorForLanguageModeling(tokenizer, mlm=True)"
   ]
  },
  {
   "cell_type": "code",
   "execution_count": 149,
   "id": "06f54bc0",
   "metadata": {},
   "outputs": [],
   "source": [
    "loader = torch.utils.data.DataLoader(dataset, batch_size=4, shuffle=True, collate_fn=collator)"
   ]
  },
  {
   "cell_type": "code",
   "execution_count": 284,
   "id": "fb9f46ff",
   "metadata": {},
   "outputs": [],
   "source": [
    "d = next(iter(loader))"
   ]
  },
  {
   "cell_type": "code",
   "execution_count": 285,
   "id": "a4eb88b7",
   "metadata": {},
   "outputs": [],
   "source": [
    "o = model(**d)"
   ]
  },
  {
   "cell_type": "code",
   "execution_count": 286,
   "id": "cb1652a1",
   "metadata": {},
   "outputs": [],
   "source": [
    "qkvs = get_qkvs(model)"
   ]
  },
  {
   "cell_type": "code",
   "execution_count": 337,
   "id": "3c45e9e1",
   "metadata": {},
   "outputs": [],
   "source": [
    "attn = relation_attention(qkvs[-1]['q'], num_relation_heads=48, attention_mask=d['attention_mask'])\n",
    "attn /= 2.\n",
    "attn = attn.softmax(dim=1)"
   ]
  },
  {
   "cell_type": "code",
   "execution_count": 338,
   "id": "88c49a82",
   "metadata": {},
   "outputs": [],
   "source": [
    "attn2 = relation_attention(qkvs[9]['q'], num_relation_heads=48, attention_mask=d['attention_mask'])\n",
    "attn2 /= 2.\n",
    "attn2 = attn2.softmax(dim=1)"
   ]
  },
  {
   "cell_type": "code",
   "execution_count": 339,
   "id": "f664beda",
   "metadata": {},
   "outputs": [
    {
     "data": {
      "text/plain": [
       "tensor(0.6760)"
      ]
     },
     "execution_count": 339,
     "metadata": {},
     "output_type": "execute_result"
    }
   ],
   "source": [
    "(attn > 1e-5).float().mean()"
   ]
  },
  {
   "cell_type": "code",
   "execution_count": 340,
   "id": "919051b6",
   "metadata": {},
   "outputs": [
    {
     "data": {
      "text/plain": [
       "tensor(0.6498)"
      ]
     },
     "execution_count": 340,
     "metadata": {},
     "output_type": "execute_result"
    }
   ],
   "source": [
    "(attn2 > 1e-5).float().mean()"
   ]
  },
  {
   "cell_type": "code",
   "execution_count": 344,
   "id": "ea6ac381",
   "metadata": {},
   "outputs": [],
   "source": [
    "idx = 160"
   ]
  },
  {
   "cell_type": "code",
   "execution_count": 345,
   "id": "a8942ab9",
   "metadata": {},
   "outputs": [
    {
     "data": {
      "text/plain": [
       "<AxesSubplot:>"
      ]
     },
     "execution_count": 345,
     "metadata": {},
     "output_type": "execute_result"
    },
    {
     "data": {
      "image/png": "[encoded data removed]",
      "text/plain": [
       "<Figure size 432x288 with 1 Axes>"
      ]
     },
     "metadata": {
      "needs_background": "light"
     },
     "output_type": "display_data"
    }
   ],
   "source": [
    "sns.lineplot(x=range(512), y=attn[idx])"
   ]
  },
  {
   "cell_type": "code",
   "execution_count": 346,
   "id": "baad1574",
   "metadata": {},
   "outputs": [
    {
     "data": {
      "text/plain": [
       "<AxesSubplot:>"
      ]
     },
     "execution_count": 346,
     "metadata": {},
     "output_type": "execute_result"
    },
    {
     "data": {
      "image/png": "[encoded data removed]",
      "text/plain": [
       "<Figure size 432x288 with 1 Axes>"
      ]
     },
     "metadata": {
      "needs_background": "light"
     },
     "output_type": "display_data"
    }
   ],
   "source": [
    "sns.lineplot(x=range(512), y=attn2[idx])"
   ]
  },
  {
   "cell_type": "code",
   "execution_count": null,
   "id": "54fcbef4",
   "metadata": {},
   "outputs": [],
   "source": []
  }
 ],
 "metadata": {
  "kernelspec": {
   "display_name": "Python 3 (ipykernel)",
   "language": "python",
   "name": "python3"
  },
  "language_info": {
   "codemirror_mode": {
    "name": "ipython",
    "version": 3
   },
   "file_extension": ".py",
   "mimetype": "text/x-python",
   "name": "python",
   "nbconvert_exporter": "python",
   "pygments_lexer": "ipython3",
   "version": "3.8.0"
  }
 },
 "nbformat": 4,
 "nbformat_minor": 5
}
