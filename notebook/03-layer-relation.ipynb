{
 "cells": [
  {
   "cell_type": "markdown",
   "id": "12c83a9d",
   "metadata": {},
   "source": [
    "# Layer Relation"
   ]
  },
  {
   "cell_type": "markdown",
   "id": "02fa1a32",
   "metadata": {},
   "source": [
    "## 1. Setup"
   ]
  },
  {
   "cell_type": "code",
   "execution_count": 7,
   "id": "fdd7a53c",
   "metadata": {},
   "outputs": [],
   "source": [
    "import hydra\n",
    "import os\n",
    "\n",
    "import torch\n",
    "import torch.nn.functional as F\n",
    "\n",
    "import pytorch_lightning as pl\n",
    "\n",
    "from transformers import AutoModel, AutoModelForMaskedLM, AutoTokenizer, AutoConfig\n",
    "from transformers import get_scheduler"
   ]
  },
  {
   "cell_type": "code",
   "execution_count": 5,
   "id": "1402baf9",
   "metadata": {},
   "outputs": [],
   "source": [
    "with hydra.initialize('../configs'):\n",
    "    config = hydra.compose('config.yaml', overrides=['working_dir=../', 'model.mlm=false'])"
   ]
  },
  {
   "cell_type": "markdown",
   "id": "86373db0",
   "metadata": {},
   "source": [
    "## 2. Model"
   ]
  },
  {
   "cell_type": "code",
   "execution_count": 15,
   "id": "9f028739",
   "metadata": {},
   "outputs": [
    {
     "ename": "TypeError",
     "evalue": "__init__() got an unexpected keyword argument 'output_attention'",
     "output_type": "error",
     "traceback": [
      "\u001b[0;31m---------------------------------------------------------------------------\u001b[0m",
      "\u001b[0;31mTypeError\u001b[0m                                 Traceback (most recent call last)",
      "\u001b[0;32m/tmp/ipykernel_172/1775381943.py\u001b[0m in \u001b[0;36m<module>\u001b[0;34m\u001b[0m\n\u001b[1;32m      1\u001b[0m \u001b[0mtokenizer\u001b[0m \u001b[0;34m=\u001b[0m \u001b[0mAutoTokenizer\u001b[0m\u001b[0;34m.\u001b[0m\u001b[0mfrom_pretrained\u001b[0m\u001b[0;34m(\u001b[0m\u001b[0;34m'klue/roberta-small'\u001b[0m\u001b[0;34m)\u001b[0m\u001b[0;34m\u001b[0m\u001b[0;34m\u001b[0m\u001b[0m\n\u001b[0;32m----> 2\u001b[0;31m \u001b[0mstudent\u001b[0m \u001b[0;34m=\u001b[0m \u001b[0mAutoModel\u001b[0m\u001b[0;34m.\u001b[0m\u001b[0mfrom_pretrained\u001b[0m\u001b[0;34m(\u001b[0m\u001b[0;34m'klue/roberta-small'\u001b[0m\u001b[0;34m,\u001b[0m \u001b[0moutput_hidden_states\u001b[0m\u001b[0;34m=\u001b[0m\u001b[0;32mTrue\u001b[0m\u001b[0;34m,\u001b[0m \u001b[0moutput_attention\u001b[0m\u001b[0;34m=\u001b[0m\u001b[0;32mTrue\u001b[0m\u001b[0;34m)\u001b[0m\u001b[0;34m\u001b[0m\u001b[0;34m\u001b[0m\u001b[0m\n\u001b[0m\u001b[1;32m      3\u001b[0m \u001b[0mteacher\u001b[0m \u001b[0;34m=\u001b[0m \u001b[0mAutoModel\u001b[0m\u001b[0;34m.\u001b[0m\u001b[0mfrom_pretrained\u001b[0m\u001b[0;34m(\u001b[0m\u001b[0;34m'klue/roberta-base'\u001b[0m\u001b[0;34m,\u001b[0m \u001b[0moutput_hidden_states\u001b[0m\u001b[0;34m=\u001b[0m\u001b[0;32mTrue\u001b[0m\u001b[0;34m,\u001b[0m \u001b[0moutput_attention\u001b[0m\u001b[0;34m=\u001b[0m\u001b[0;32mTrue\u001b[0m\u001b[0;34m)\u001b[0m\u001b[0;34m\u001b[0m\u001b[0;34m\u001b[0m\u001b[0m\n",
      "\u001b[0;32m/usr/local/lib/python3.8/dist-packages/transformers/models/auto/auto_factory.py\u001b[0m in \u001b[0;36mfrom_pretrained\u001b[0;34m(cls, pretrained_model_name_or_path, *model_args, **kwargs)\u001b[0m\n\u001b[1;32m    417\u001b[0m         \u001b[0;32melif\u001b[0m \u001b[0mtype\u001b[0m\u001b[0;34m(\u001b[0m\u001b[0mconfig\u001b[0m\u001b[0;34m)\u001b[0m \u001b[0;32min\u001b[0m \u001b[0mcls\u001b[0m\u001b[0;34m.\u001b[0m\u001b[0m_model_mapping\u001b[0m\u001b[0;34m.\u001b[0m\u001b[0mkeys\u001b[0m\u001b[0;34m(\u001b[0m\u001b[0;34m)\u001b[0m\u001b[0;34m:\u001b[0m\u001b[0;34m\u001b[0m\u001b[0;34m\u001b[0m\u001b[0m\n\u001b[1;32m    418\u001b[0m             \u001b[0mmodel_class\u001b[0m \u001b[0;34m=\u001b[0m \u001b[0m_get_model_class\u001b[0m\u001b[0;34m(\u001b[0m\u001b[0mconfig\u001b[0m\u001b[0;34m,\u001b[0m \u001b[0mcls\u001b[0m\u001b[0;34m.\u001b[0m\u001b[0m_model_mapping\u001b[0m\u001b[0;34m)\u001b[0m\u001b[0;34m\u001b[0m\u001b[0;34m\u001b[0m\u001b[0m\n\u001b[0;32m--> 419\u001b[0;31m             \u001b[0;32mreturn\u001b[0m \u001b[0mmodel_class\u001b[0m\u001b[0;34m.\u001b[0m\u001b[0mfrom_pretrained\u001b[0m\u001b[0;34m(\u001b[0m\u001b[0mpretrained_model_name_or_path\u001b[0m\u001b[0;34m,\u001b[0m \u001b[0;34m*\u001b[0m\u001b[0mmodel_args\u001b[0m\u001b[0;34m,\u001b[0m \u001b[0mconfig\u001b[0m\u001b[0;34m=\u001b[0m\u001b[0mconfig\u001b[0m\u001b[0;34m,\u001b[0m \u001b[0;34m**\u001b[0m\u001b[0mkwargs\u001b[0m\u001b[0;34m)\u001b[0m\u001b[0;34m\u001b[0m\u001b[0;34m\u001b[0m\u001b[0m\n\u001b[0m\u001b[1;32m    420\u001b[0m         raise ValueError(\n\u001b[1;32m    421\u001b[0m             \u001b[0;34mf\"Unrecognized configuration class {config.__class__} for this kind of AutoModel: {cls.__name__}.\\n\"\u001b[0m\u001b[0;34m\u001b[0m\u001b[0;34m\u001b[0m\u001b[0m\n",
      "\u001b[0;32m/usr/local/lib/python3.8/dist-packages/transformers/modeling_utils.py\u001b[0m in \u001b[0;36mfrom_pretrained\u001b[0;34m(cls, pretrained_model_name_or_path, *model_args, **kwargs)\u001b[0m\n\u001b[1;32m   1411\u001b[0m         \u001b[0;32melse\u001b[0m\u001b[0;34m:\u001b[0m\u001b[0;34m\u001b[0m\u001b[0;34m\u001b[0m\u001b[0m\n\u001b[1;32m   1412\u001b[0m             \u001b[0;32mwith\u001b[0m \u001b[0mno_init_weights\u001b[0m\u001b[0;34m(\u001b[0m\u001b[0m_enable\u001b[0m\u001b[0;34m=\u001b[0m\u001b[0m_fast_init\u001b[0m\u001b[0;34m)\u001b[0m\u001b[0;34m:\u001b[0m\u001b[0;34m\u001b[0m\u001b[0;34m\u001b[0m\u001b[0m\n\u001b[0;32m-> 1413\u001b[0;31m                 \u001b[0mmodel\u001b[0m \u001b[0;34m=\u001b[0m \u001b[0mcls\u001b[0m\u001b[0;34m(\u001b[0m\u001b[0mconfig\u001b[0m\u001b[0;34m,\u001b[0m \u001b[0;34m*\u001b[0m\u001b[0mmodel_args\u001b[0m\u001b[0;34m,\u001b[0m \u001b[0;34m**\u001b[0m\u001b[0mmodel_kwargs\u001b[0m\u001b[0;34m)\u001b[0m\u001b[0;34m\u001b[0m\u001b[0;34m\u001b[0m\u001b[0m\n\u001b[0m\u001b[1;32m   1414\u001b[0m \u001b[0;34m\u001b[0m\u001b[0m\n\u001b[1;32m   1415\u001b[0m         \u001b[0;32mif\u001b[0m \u001b[0mfrom_pt\u001b[0m\u001b[0;34m:\u001b[0m\u001b[0;34m\u001b[0m\u001b[0;34m\u001b[0m\u001b[0m\n",
      "\u001b[0;31mTypeError\u001b[0m: __init__() got an unexpected keyword argument 'output_attention'"
     ]
    }
   ],
   "source": [
    "tokenizer = AutoTokenizer.from_pretrained('klue/roberta-small')\n",
    "student = AutoModel.from_pretrained('klue/roberta-small', output_hidden_states=True, output_attentions=True)\n",
    "teacher = AutoModel.from_pretrained('klue/roberta-base', output_hidden_states=True, output_attentions=True)"
   ]
  },
  {
   "cell_type": "markdown",
   "id": "10f7ea07",
   "metadata": {},
   "source": [
    "## 3. Layer Relation"
   ]
  },
  {
   "cell_type": "code",
   "execution_count": 8,
   "id": "515d22ae",
   "metadata": {},
   "outputs": [],
   "source": [
    "def transpose_for_scores(h, num_heads):\n",
    "    batch_size, seq_length, dim = h.size()\n",
    "    head_size = dim // num_heads\n",
    "    h = h.view(batch_size, seq_length, num_heads, head_size)\n",
    "    return h.permute(0, 2, 1, 3)\n",
    "\n",
    "\n",
    "def relation_attention(h1, h2, num_relation_heads, attention_mask=None):        \n",
    "    h1 = transpose_for_scores(h1, num_relation_heads) # (batch, num_heads, seq_length, head_size)\n",
    "    h2 = transpose_for_scores(h2, num_relation_heads) # (batch, num_heads, seq_length, head_size)\n",
    "\n",
    "    attn = torch.matmul(h1, h2.transpose(-1, -2)) # (batch_size, num_heads, seq_length, seq_length)\n",
    "    if attention_mask is not None:\n",
    "        attention_mask = attention_mask[:, None, None, :]\n",
    "        attention_mask = (1 - attention_mask) * -10000.0\n",
    "        attn = attn + attention_mask\n",
    "\n",
    "    \n",
    "#     attn = attn.view(-1, attn.size(-1)) # (~, seq_length)\n",
    "    return attn\n",
    "\n",
    "def kl_div_loss(s, t, temperature=1.):\n",
    "    s = F.log_softmax(s / temperature, dim=-1)\n",
    "    t = F.softmax(t / temperature, dim=-1)\n",
    "    return F.kl_div(s, t, reduction='batchmean')"
   ]
  },
  {
   "cell_type": "code",
   "execution_count": 9,
   "id": "a9c62aea",
   "metadata": {},
   "outputs": [],
   "source": [
    "text = ['조 교수는 육군사관학교 60기 출신으로 17년간 군 복무를 했다. 그는 이날 “작년까지만 해도 군복을 입고 있었다”며 “제복과 군복이 자랑스러울 수 있는 국가가 됐으면 하는 게 내 개인적 바람”이라고 스스로를 소개했다. 1982년생으로 서울에서 태어난 조 교수는 군 복무 중 이라크 자이툰부대, 한미연합사령부, 육군본부 정책실 등에서 근무한 뒤 지난해 육군 소령으로 전역했다. 2016년 미국 하버드대 케네디스쿨에서 공공행정학 석사 학위를 받는 등 학업도 병행했다. 지난해부터는 서경대 미래국방기술창업센터장으로 부임해 국내 우주산업과 방위산업 연구에 주력하고 있다.']"
   ]
  },
  {
   "cell_type": "code",
   "execution_count": 10,
   "id": "fd15571d",
   "metadata": {},
   "outputs": [],
   "source": [
    "batch = tokenizer(text, max_length=512, padding='max_length', truncation=True, return_tensors='pt')"
   ]
  },
  {
   "cell_type": "code",
   "execution_count": 12,
   "id": "4b5e018f",
   "metadata": {},
   "outputs": [],
   "source": [
    "ho = teacher(**batch)\n",
    "so = student(**batch)\n",
    "\n",
    "th = to.hidden_states\n",
    "sh = so.hidden_states"
   ]
  },
  {
   "cell_type": "code",
   "execution_count": 14,
   "id": "8f09fadd",
   "metadata": {},
   "outputs": [],
   "source": [
    "th"
   ]
  },
  {
   "cell_type": "code",
   "execution_count": 13,
   "id": "1eb877cf",
   "metadata": {},
   "outputs": [
    {
     "ename": "TypeError",
     "evalue": "'NoneType' object is not subscriptable",
     "output_type": "error",
     "traceback": [
      "\u001b[0;31m---------------------------------------------------------------------------\u001b[0m",
      "\u001b[0;31mTypeError\u001b[0m                                 Traceback (most recent call last)",
      "\u001b[0;32m/tmp/ipykernel_172/2246910760.py\u001b[0m in \u001b[0;36m<module>\u001b[0;34m\u001b[0m\n\u001b[0;32m----> 1\u001b[0;31m \u001b[0mte\u001b[0m \u001b[0;34m=\u001b[0m \u001b[0mrelation_attention\u001b[0m\u001b[0;34m(\u001b[0m\u001b[0mth\u001b[0m\u001b[0;34m[\u001b[0m\u001b[0;36m0\u001b[0m\u001b[0;34m]\u001b[0m\u001b[0;34m,\u001b[0m \u001b[0mth\u001b[0m\u001b[0;34m[\u001b[0m\u001b[0;36m0\u001b[0m\u001b[0;34m]\u001b[0m\u001b[0;34m,\u001b[0m \u001b[0;36m48\u001b[0m\u001b[0;34m,\u001b[0m \u001b[0mbatch\u001b[0m\u001b[0;34m.\u001b[0m\u001b[0mattention_mask\u001b[0m\u001b[0;34m)\u001b[0m \u001b[0;31m# teacher embedding attn\u001b[0m\u001b[0;34m\u001b[0m\u001b[0;34m\u001b[0m\u001b[0m\n\u001b[0m\u001b[1;32m      2\u001b[0m \u001b[0mse\u001b[0m \u001b[0;34m=\u001b[0m \u001b[0mrelation_attention\u001b[0m\u001b[0;34m(\u001b[0m\u001b[0msh\u001b[0m\u001b[0;34m[\u001b[0m\u001b[0;36m0\u001b[0m\u001b[0;34m]\u001b[0m\u001b[0;34m,\u001b[0m \u001b[0msh\u001b[0m\u001b[0;34m[\u001b[0m\u001b[0;36m0\u001b[0m\u001b[0;34m]\u001b[0m\u001b[0;34m,\u001b[0m \u001b[0;36m48\u001b[0m\u001b[0;34m,\u001b[0m \u001b[0mbatch\u001b[0m\u001b[0;34m.\u001b[0m\u001b[0mattention_mask\u001b[0m\u001b[0;34m)\u001b[0m \u001b[0;31m# student embedding attn\u001b[0m\u001b[0;34m\u001b[0m\u001b[0;34m\u001b[0m\u001b[0m\n\u001b[1;32m      3\u001b[0m \u001b[0;34m\u001b[0m\u001b[0m\n\u001b[1;32m      4\u001b[0m \u001b[0mtl\u001b[0m \u001b[0;34m=\u001b[0m \u001b[0mrelation_attention\u001b[0m\u001b[0;34m(\u001b[0m\u001b[0mth\u001b[0m\u001b[0;34m[\u001b[0m\u001b[0;34m-\u001b[0m\u001b[0;36m1\u001b[0m\u001b[0;34m]\u001b[0m\u001b[0;34m,\u001b[0m \u001b[0mth\u001b[0m\u001b[0;34m[\u001b[0m\u001b[0;34m-\u001b[0m\u001b[0;36m1\u001b[0m\u001b[0;34m]\u001b[0m\u001b[0;34m,\u001b[0m \u001b[0;36m48\u001b[0m\u001b[0;34m,\u001b[0m \u001b[0mbatch\u001b[0m\u001b[0;34m.\u001b[0m\u001b[0mattention_mask\u001b[0m\u001b[0;34m)\u001b[0m \u001b[0;31m# teacher last hidden state attn\u001b[0m\u001b[0;34m\u001b[0m\u001b[0;34m\u001b[0m\u001b[0m\n\u001b[1;32m      5\u001b[0m \u001b[0msl\u001b[0m \u001b[0;34m=\u001b[0m \u001b[0mrelation_attention\u001b[0m\u001b[0;34m(\u001b[0m\u001b[0msh\u001b[0m\u001b[0;34m[\u001b[0m\u001b[0;34m-\u001b[0m\u001b[0;36m1\u001b[0m\u001b[0;34m]\u001b[0m\u001b[0;34m,\u001b[0m \u001b[0msh\u001b[0m\u001b[0;34m[\u001b[0m\u001b[0;34m-\u001b[0m\u001b[0;36m1\u001b[0m\u001b[0;34m]\u001b[0m\u001b[0;34m,\u001b[0m \u001b[0;36m48\u001b[0m\u001b[0;34m,\u001b[0m \u001b[0mbatch\u001b[0m\u001b[0;34m.\u001b[0m\u001b[0mattention_mask\u001b[0m\u001b[0;34m)\u001b[0m \u001b[0;31m# student last hidden state attn\u001b[0m\u001b[0;34m\u001b[0m\u001b[0;34m\u001b[0m\u001b[0m\n",
      "\u001b[0;31mTypeError\u001b[0m: 'NoneType' object is not subscriptable"
     ]
    }
   ],
   "source": [
    "te = relation_attention(th[0], th[0], 48, batch.attention_mask) # teacher embedding attn\n",
    "se = relation_attention(sh[0], sh[0], 48, batch.attention_mask) # student embedding attn\n",
    "\n",
    "tl = relation_attention(th[-1], th[-1], 48, batch.attention_mask) # teacher last hidden state attn\n",
    "sl = relation_attention(sh[-1], sh[-1], 48, batch.attention_mask) # student last hidden state attn\n",
    "\n",
    "tel = relation_attention(th[0], th[-1], 48, batch.attention_mask) # teacher embedding -> last hidden attn\n",
    "sel = relation_attention(sh[0], sh[-1], 48, batch.attention_mask) # student embedding -> last hidden attn\n",
    "\n",
    "tle = relation_attention(th[-1], th[0], 48, batch.attention_mask) # teacher last hidden -> embedding attn\n",
    "sle = relation_attention(sh[-1], sh[0], 48, batch.attention_mask) # student last hidden -> embedding attn"
   ]
  },
  {
   "cell_type": "code",
   "execution_count": 22,
   "id": "8423c97c",
   "metadata": {},
   "outputs": [],
   "source": [
    "s = tel.transpose(-1, -2) == tle"
   ]
  },
  {
   "cell_type": "code",
   "execution_count": 32,
   "id": "e2463903",
   "metadata": {},
   "outputs": [
    {
     "data": {
      "text/plain": [
       "tensor([False, False, False, False, False, False, False, False, False, False,\n",
       "        False, False, False, False, False, False, False, False, False, False,\n",
       "        False, False, False, False, False, False, False, False, False, False,\n",
       "        False, False, False, False, False, False, False, False, False, False,\n",
       "        False, False, False, False, False, False, False, False, False, False,\n",
       "        False, False, False, False, False, False, False, False, False, False,\n",
       "        False, False, False, False, False, False, False, False, False, False,\n",
       "        False, False, False, False, False, False, False, False, False, False,\n",
       "        False, False, False, False, False, False, False, False, False, False,\n",
       "        False, False, False, False, False, False, False, False, False, False,\n",
       "        False, False, False, False, False, False, False, False, False, False,\n",
       "        False, False, False, False, False, False, False, False, False, False,\n",
       "        False, False, False, False, False, False, False, False, False, False,\n",
       "        False, False, False, False, False, False, False, False, False, False,\n",
       "        False, False, False, False, False, False, False, False, False, False,\n",
       "        False, False, False, False, False, False, False, False, False, False,\n",
       "        False, False,  True,  True,  True,  True,  True,  True,  True,  True,\n",
       "         True,  True,  True,  True,  True,  True,  True,  True,  True,  True,\n",
       "         True,  True,  True,  True,  True,  True,  True,  True,  True,  True,\n",
       "         True,  True,  True,  True,  True,  True,  True,  True,  True,  True,\n",
       "         True,  True,  True,  True,  True,  True,  True,  True,  True,  True,\n",
       "         True,  True,  True,  True,  True,  True,  True,  True,  True,  True,\n",
       "         True,  True,  True,  True,  True,  True,  True,  True,  True,  True,\n",
       "         True,  True,  True,  True,  True,  True,  True,  True,  True,  True,\n",
       "         True,  True,  True,  True,  True,  True,  True,  True,  True,  True,\n",
       "         True,  True,  True,  True,  True,  True,  True,  True,  True,  True,\n",
       "         True,  True,  True,  True,  True,  True,  True,  True,  True,  True,\n",
       "         True,  True,  True,  True,  True,  True,  True,  True,  True,  True,\n",
       "         True,  True,  True,  True,  True,  True,  True,  True,  True,  True,\n",
       "         True,  True,  True,  True,  True,  True,  True,  True,  True,  True,\n",
       "         True,  True,  True,  True,  True,  True,  True,  True,  True,  True,\n",
       "         True,  True,  True,  True,  True,  True,  True,  True,  True,  True,\n",
       "         True,  True,  True,  True,  True,  True,  True,  True,  True,  True,\n",
       "         True,  True,  True,  True,  True,  True,  True,  True,  True,  True,\n",
       "         True,  True,  True,  True,  True,  True,  True,  True,  True,  True,\n",
       "         True,  True,  True,  True,  True,  True,  True,  True,  True,  True,\n",
       "         True,  True,  True,  True,  True,  True,  True,  True,  True,  True,\n",
       "         True,  True,  True,  True,  True,  True,  True,  True,  True,  True,\n",
       "         True,  True,  True,  True,  True,  True,  True,  True,  True,  True,\n",
       "         True,  True,  True,  True,  True,  True,  True,  True,  True,  True,\n",
       "         True,  True,  True,  True,  True,  True,  True,  True,  True,  True,\n",
       "         True,  True,  True,  True,  True,  True,  True,  True,  True,  True,\n",
       "         True,  True,  True,  True,  True,  True,  True,  True,  True,  True,\n",
       "         True,  True,  True,  True,  True,  True,  True,  True,  True,  True,\n",
       "         True,  True,  True,  True,  True,  True,  True,  True,  True,  True,\n",
       "         True,  True,  True,  True,  True,  True,  True,  True,  True,  True,\n",
       "         True,  True,  True,  True,  True,  True,  True,  True,  True,  True,\n",
       "         True,  True,  True,  True,  True,  True,  True,  True,  True,  True,\n",
       "         True,  True,  True,  True,  True,  True,  True,  True,  True,  True,\n",
       "         True,  True,  True,  True,  True,  True,  True,  True,  True,  True,\n",
       "         True,  True,  True,  True,  True,  True,  True,  True,  True,  True,\n",
       "         True,  True])"
      ]
     },
     "execution_count": 32,
     "metadata": {},
     "output_type": "execute_result"
    }
   ],
   "source": [
    "s[0][0][-1]"
   ]
  },
  {
   "cell_type": "code",
   "execution_count": 16,
   "id": "013d7bef",
   "metadata": {},
   "outputs": [
    {
     "data": {
      "text/plain": [
       "(torch.Size([1, 48, 512, 512]), torch.Size([1, 48, 512, 512]))"
      ]
     },
     "execution_count": 16,
     "metadata": {},
     "output_type": "execute_result"
    }
   ],
   "source": [
    "tel.size(), tle.size()"
   ]
  },
  {
   "cell_type": "code",
   "execution_count": 166,
   "id": "05640f85",
   "metadata": {},
   "outputs": [],
   "source": [
    "loss_e = kl_div_loss(se, te)\n",
    "loss_l = kl_div_loss(sl, tl)\n",
    "loss_el = kl_div_loss(sel, tel)\n",
    "loss_le = kl_div_loss(sle, tle)"
   ]
  },
  {
   "cell_type": "code",
   "execution_count": 167,
   "id": "f8502e26",
   "metadata": {},
   "outputs": [
    {
     "data": {
      "text/plain": [
       "(tensor(4.6449, grad_fn=<DivBackward0>),\n",
       " tensor(6.3919, grad_fn=<DivBackward0>),\n",
       " tensor(4.5353, grad_fn=<DivBackward0>),\n",
       " tensor(4.4880, grad_fn=<DivBackward0>))"
      ]
     },
     "execution_count": 167,
     "metadata": {},
     "output_type": "execute_result"
    }
   ],
   "source": [
    "loss_e, loss_l, loss_el, loss_le"
   ]
  },
  {
   "cell_type": "code",
   "execution_count": 160,
   "id": "be652936",
   "metadata": {},
   "outputs": [
    {
     "data": {
      "text/plain": [
       "(tensor(3.1986, grad_fn=<DivBackward0>),\n",
       " tensor(5.7497, grad_fn=<DivBackward0>),\n",
       " tensor(3.4266, grad_fn=<DivBackward0>),\n",
       " tensor(3.7151, grad_fn=<DivBackward0>))"
      ]
     },
     "execution_count": 160,
     "metadata": {},
     "output_type": "execute_result"
    }
   ],
   "source": [
    "loss_e, loss_l, loss_el, loss_le"
   ]
  },
  {
   "cell_type": "code",
   "execution_count": 105,
   "id": "fb5086bf",
   "metadata": {},
   "outputs": [],
   "source": [
    "t = relation_attention(outputs_t.hidden_states[0], outputs_t.hidden_states[-1], 48, batch.attention_mask)\n",
    "s = relation_attention(outputs_s.hidden_states[0], outputs_s.hidden_states[-1], 48, batch.attention_mask)"
   ]
  },
  {
   "cell_type": "code",
   "execution_count": 108,
   "id": "73465557",
   "metadata": {},
   "outputs": [],
   "source": [
    "t = relation_attention(outputs_t.hidden_states[-1], outputs_t.hidden_states[0], 48, batch.attention_mask)\n",
    "s = relation_attention(outputs_s.hidden_states[-1], outputs_s.hidden_states[0], 48, batch.attention_mask)"
   ]
  },
  {
   "cell_type": "code",
   "execution_count": 92,
   "id": "d8739ffe",
   "metadata": {},
   "outputs": [],
   "source": [
    "import seaborn as sns\n",
    "import matplotlib.pyplot as plt"
   ]
  },
  {
   "cell_type": "code",
   "execution_count": 106,
   "id": "523bb7aa",
   "metadata": {},
   "outputs": [
    {
     "data": {
      "text/plain": [
       "<matplotlib.legend.Legend at 0x7f169b6ba460>"
      ]
     },
     "execution_count": 106,
     "metadata": {},
     "output_type": "execute_result"
    },
    {
     "data": {
      "image/png": "[encoded data removed]",
      "text/plain": [
       "<Figure size 432x288 with 1 Axes>"
      ]
     },
     "metadata": {
      "needs_background": "light"
     },
     "output_type": "display_data"
    }
   ],
   "source": [
    "idx = 1006\n",
    "sns.lineplot(x=range(512), y=t[idx].detach().softmax(dim=0))\n",
    "sns.lineplot(x=range(512), y=s[idx].detach().softmax(dim=0))\n",
    "plt.legend(['t', 's'])"
   ]
  },
  {
   "cell_type": "code",
   "execution_count": 100,
   "id": "816c032e",
   "metadata": {},
   "outputs": [
    {
     "data": {
      "text/plain": [
       "<matplotlib.legend.Legend at 0x7f16f4328250>"
      ]
     },
     "execution_count": 100,
     "metadata": {},
     "output_type": "execute_result"
    },
    {
     "data": {
      "image/png": "[encoded data removed]",
      "text/plain": [
       "<Figure size 432x288 with 1 Axes>"
      ]
     },
     "metadata": {
      "needs_background": "light"
     },
     "output_type": "display_data"
    }
   ],
   "source": [
    "idx = 1006\n",
    "sns.lineplot(x=range(512), y=t[idx].detach().softmax(dim=0))\n",
    "sns.lineplot(x=range(512), y=s[idx].detach().softmax(dim=0))\n",
    "plt.legend(['t', 's'])"
   ]
  },
  {
   "cell_type": "code",
   "execution_count": 80,
   "id": "8e538583",
   "metadata": {},
   "outputs": [
    {
     "data": {
      "text/plain": [
       "tensor(1.)"
      ]
     },
     "execution_count": 80,
     "metadata": {},
     "output_type": "execute_result"
    }
   ],
   "source": [
    "t[20001].softmax(dim=0).sum()"
   ]
  },
  {
   "cell_type": "code",
   "execution_count": 49,
   "id": "86c05837",
   "metadata": {},
   "outputs": [],
   "source": [
    "embed_attn_s1 = relation_attention(embed_s, 48, batch.attention_mask)\n",
    "embed_attn_t1 = relation_attention(embed_t, 48, batch.attention_mask)"
   ]
  },
  {
   "cell_type": "code",
   "execution_count": 50,
   "id": "065de052",
   "metadata": {},
   "outputs": [
    {
     "data": {
      "text/plain": [
       "torch.Size([49152, 512])"
      ]
     },
     "execution_count": 50,
     "metadata": {},
     "output_type": "execute_result"
    }
   ],
   "source": [
    "embed_attn_s1.size()"
   ]
  },
  {
   "cell_type": "code",
   "execution_count": 52,
   "id": "3ad8d28a",
   "metadata": {},
   "outputs": [
    {
     "data": {
      "text/plain": [
       "tensor(1.)"
      ]
     },
     "execution_count": 52,
     "metadata": {},
     "output_type": "execute_result"
    }
   ],
   "source": [
    "(embed_attn_s == embed_attn_s1).float().mean()"
   ]
  },
  {
   "cell_type": "code",
   "execution_count": 109,
   "id": "17b919dc",
   "metadata": {},
   "outputs": [
    {
     "data": {
      "text/plain": [
       "tensor(3.5271, grad_fn=<DivBackward0>)"
      ]
     },
     "execution_count": 109,
     "metadata": {},
     "output_type": "execute_result"
    }
   ],
   "source": [
    "F.kl_div(F.log_softmax(s, dim=-1), F.softmax(t, dim=-1), reduction='batchmean')"
   ]
  },
  {
   "cell_type": "code",
   "execution_count": 88,
   "id": "17aa41ee",
   "metadata": {},
   "outputs": [
    {
     "data": {
      "text/plain": [
       "tensor(4.6465, grad_fn=<DivBackward0>)"
      ]
     },
     "execution_count": 88,
     "metadata": {},
     "output_type": "execute_result"
    }
   ],
   "source": []
  },
  {
   "cell_type": "code",
   "execution_count": null,
   "id": "10f46487",
   "metadata": {},
   "outputs": [],
   "source": []
  }
 ],
 "metadata": {
  "kernelspec": {
   "display_name": "Python 3 (ipykernel)",
   "language": "python",
   "name": "python3"
  },
  "language_info": {
   "codemirror_mode": {
    "name": "ipython",
    "version": 3
   },
   "file_extension": ".py",
   "mimetype": "text/x-python",
   "name": "python",
   "nbconvert_exporter": "python",
   "pygments_lexer": "ipython3",
   "version": "3.8.0"
  }
 },
 "nbformat": 4,
 "nbformat_minor": 5
}
