{
 "cells": [
  {
   "cell_type": "markdown",
   "id": "176c99c2",
   "metadata": {},
   "source": [
    "# Truncate"
   ]
  },
  {
   "cell_type": "markdown",
   "id": "df239b74",
   "metadata": {},
   "source": [
    "## 1. Setup"
   ]
  },
  {
   "cell_type": "code",
   "execution_count": 18,
   "id": "5194bde6",
   "metadata": {},
   "outputs": [],
   "source": [
    "from typing import List\n",
    "\n",
    "import torch\n",
    "import torch.nn as nn\n",
    "\n",
    "from transformers import AutoConfig, AutoModel, AutoTokenizer"
   ]
  },
  {
   "cell_type": "markdown",
   "id": "c6adcc1d",
   "metadata": {},
   "source": [
    "## 2. Truncate"
   ]
  },
  {
   "cell_type": "code",
   "execution_count": 64,
   "id": "b1c12974",
   "metadata": {},
   "outputs": [],
   "source": [
    "def truncate_layers(model: torch.nn.Module, indices: List[int]):\n",
    "    model.encoder.layer = nn.ModuleList([l for i, l in enumerate(model.encoder.layer) if i in indices])\n",
    "    return model\n",
    "\n",
    "def truncate_weight(weight: torch.Tensor, dim: int, size: int = 384):\n",
    "    if dim == 0:\n",
    "        weight = weight[:size]\n",
    "    elif dim == 1:\n",
    "        weight = weight[:, :size]\n",
    "    return weight"
   ]
  },
  {
   "cell_type": "code",
   "execution_count": 85,
   "id": "5311af75",
   "metadata": {},
   "outputs": [],
   "source": [
    "def truncate_embedding(embedding, size = 384):\n",
    "    embedding.weight.data = truncate_weight(embedding.weight.data, dim=1)\n",
    "    embedding.embedding_dim = size\n",
    "    return embedding\n",
    "def truncate_layernorm(layernorm, size=384):\n",
    "    layernorm.weight.data = truncate_weight(layernorm.weight.data, dim=0)\n",
    "    layernorm.bias.data = truncate_weight(layernorm.bias.data, dim=0)\n",
    "    layernorm.normalized_shape = (size,)\n",
    "    return layernorm\n",
    "\n",
    "def truncate_linear(linear, dims, size=384):\n",
    "    for d in dims:\n",
    "        linear.weight.data = truncate_weight(linear.weight.data, dim=d, size=size)\n",
    "    if 0 in dims:\n",
    "        linear.out_features = size\n",
    "        linear.bias.data = truncate_weight(linear.bias.data, dim=0, size=size)\n",
    "    if 1 in dims:\n",
    "        linear.in_features = size\n",
    "    return linear"
   ]
  },
  {
   "cell_type": "code",
   "execution_count": 101,
   "id": "92512fca",
   "metadata": {},
   "outputs": [],
   "source": [
    "def truncate_bert_embeddings(bert_embeddings, size=size):\n",
    "    truncate_embedding(bert_embeddings.word_embeddings, size=size)\n",
    "    truncate_embedding(bert_embeddings.position_embeddings, size=size)\n",
    "    truncate_embedding(bert_embeddings.token_type_embeddings, size=size)\n",
    "    truncate_layernorm(bert_embeddings.LayerNorm, size=size)\n",
    "    \n",
    "    \n",
    "def truncate_bert_layer(bert_layer, size=384):\n",
    "    bert_layer.attention.self.all_head_size = size\n",
    "    bert_layer.attention.self.attention_head_size = size // bert_layer.attention.self.num_attention_heads\n",
    "    \n",
    "    truncate_linear(bert_layer.attention.self.query, dims=[0, 1], size=size)\n",
    "    truncate_linear(bert_layer.attention.self.key, dims=[0, 1], size=size)\n",
    "    truncate_linear(bert_layer.attention.self.value, dims=[0, 1], size=size)\n",
    "    \n",
    "    truncate_linear(bert_layer.attention.output.dense, dims=[0, 1], size=size)\n",
    "    truncate_layernorm(bert_layer.attention.output.LayerNorm, size=size)\n",
    "    \n",
    "    \n",
    "    truncate_linear(bert_layer.intermediate.dense, dims=[1], size=size)\n",
    "    truncate_linear(bert_layer.output.dense, dims=[0], size=size)\n",
    "    truncate_layernorm(bert_layer.output.LayerNorm, size=size)\n",
    "    \n",
    "def truncate_bert_pooler(bert_pooler, size):\n",
    "    truncate_linear(bert_pooler.dense, dims=[0, 1], size=size)\n",
    "    \n",
    "\n",
    "def truncate_bert_model(bert_model, size=384):\n",
    "    layer_indices = [i for i in range(12) if i % 2 != 0]\n",
    "    bert_model = truncate_layers(bert_model, layer_indices)\n",
    "    truncate_bert_embeddings(bert_model.embeddings, size=size)\n",
    "    \n",
    "    for bert_layer in bert_model.encoder.layer:\n",
    "        truncate_bert_layer(bert_layer, size=size)\n",
    "    \n",
    "    truncate_bert_pooler(bert_model.pooler, size=size)"
   ]
  },
  {
   "cell_type": "code",
   "execution_count": 102,
   "id": "862e48ad",
   "metadata": {},
   "outputs": [],
   "source": [
    "tokenizer = AutoTokenizer.from_pretrained('klue/bert-base')"
   ]
  },
  {
   "cell_type": "code",
   "execution_count": 103,
   "id": "6c22eca5",
   "metadata": {},
   "outputs": [
    {
     "name": "stderr",
     "output_type": "stream",
     "text": [
      "Some weights of the model checkpoint at klue/bert-base were not used when initializing BertModel: ['cls.seq_relationship.bias', 'cls.predictions.bias', 'cls.seq_relationship.weight', 'cls.predictions.transform.LayerNorm.weight', 'cls.predictions.decoder.bias', 'cls.predictions.transform.dense.weight', 'cls.predictions.decoder.weight', 'cls.predictions.transform.dense.bias', 'cls.predictions.transform.LayerNorm.bias']\n",
      "- This IS expected if you are initializing BertModel from the checkpoint of a model trained on another task or with another architecture (e.g. initializing a BertForSequenceClassification model from a BertForPreTraining model).\n",
      "- This IS NOT expected if you are initializing BertModel from the checkpoint of a model that you expect to be exactly identical (initializing a BertForSequenceClassification model from a BertForSequenceClassification model).\n"
     ]
    }
   ],
   "source": [
    "model = AutoModel.from_pretrained('klue/bert-base', output_hidden_states=True, output_attentions=True)"
   ]
  },
  {
   "cell_type": "code",
   "execution_count": 104,
   "id": "935fdc51",
   "metadata": {},
   "outputs": [],
   "source": [
    "truncate_bert_model(model)"
   ]
  },
  {
   "cell_type": "code",
   "execution_count": 105,
   "id": "c17ed9d4",
   "metadata": {},
   "outputs": [],
   "source": [
    "input_ids = torch.randint(30000, size=(4, 256))"
   ]
  },
  {
   "cell_type": "code",
   "execution_count": 106,
   "id": "5dcf478a",
   "metadata": {},
   "outputs": [],
   "source": [
    "out = model(input_ids)"
   ]
  },
  {
   "cell_type": "code",
   "execution_count": 109,
   "id": "cb452a2b",
   "metadata": {},
   "outputs": [
    {
     "data": {
      "text/plain": [
       "torch.Size([4, 256, 384])"
      ]
     },
     "execution_count": 109,
     "metadata": {},
     "output_type": "execute_result"
    }
   ],
   "source": [
    "out.last_hidden_state.size()"
   ]
  },
  {
   "cell_type": "code",
   "execution_count": 107,
   "id": "42a0ec18",
   "metadata": {},
   "outputs": [
    {
     "data": {
      "text/plain": [
       "7"
      ]
     },
     "execution_count": 107,
     "metadata": {},
     "output_type": "execute_result"
    }
   ],
   "source": [
    "len(out.hidden_states)"
   ]
  },
  {
   "cell_type": "code",
   "execution_count": 110,
   "id": "5174be62",
   "metadata": {},
   "outputs": [
    {
     "data": {
      "text/plain": [
       "('../init/transformers/tokenizer_config.json',\n",
       " '../init/transformers/special_tokens_map.json',\n",
       " '../init/transformers/vocab.txt',\n",
       " '../init/transformers/added_tokens.json',\n",
       " '../init/transformers/tokenizer.json')"
      ]
     },
     "execution_count": 110,
     "metadata": {},
     "output_type": "execute_result"
    }
   ],
   "source": [
    "model.config.hidden_size = 384\n",
    "model.config.num_hidden_layers = 6\n",
    "\n",
    "model.save_pretrained('../init/transformers')\n",
    "tokenizer.save_pretrained('../init/transformers')"
   ]
  },
  {
   "cell_type": "code",
   "execution_count": 111,
   "id": "1e6b3d8c",
   "metadata": {},
   "outputs": [
    {
     "name": "stdout",
     "output_type": "stream",
     "text": [
      "config.json\t   special_tokens_map.json  tokenizer_config.json\r\n",
      "pytorch_model.bin  tokenizer.json\t    vocab.txt\r\n"
     ]
    }
   ],
   "source": [
    "!ls ../init/transformers"
   ]
  },
  {
   "cell_type": "code",
   "execution_count": null,
   "id": "5c664d2e",
   "metadata": {},
   "outputs": [],
   "source": []
  }
 ],
 "metadata": {
  "kernelspec": {
   "display_name": "Python 3 (ipykernel)",
   "language": "python",
   "name": "python3"
  },
  "language_info": {
   "codemirror_mode": {
    "name": "ipython",
    "version": 3
   },
   "file_extension": ".py",
   "mimetype": "text/x-python",
   "name": "python",
   "nbconvert_exporter": "python",
   "pygments_lexer": "ipython3",
   "version": "3.8.0"
  }
 },
 "nbformat": 4,
 "nbformat_minor": 5
}
